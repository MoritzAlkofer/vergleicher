{
 "cells": [
  {
   "cell_type": "code",
   "execution_count": 1,
   "metadata": {},
   "outputs": [],
   "source": [
    "import os\n",
    "import pandas as pd\n",
    "import numpy as np"
   ]
  },
  {
   "cell_type": "code",
   "execution_count": 2,
   "metadata": {},
   "outputs": [],
   "source": [
    "# get the path of the model\n",
    "model_folder = '/home/ubuntu/epilepsy_project/Models/'\n",
    "model_name = 'full_montage_MGH_PSG_OG_no_flip'\n",
    "path_model = os.path.join(model_folder,model_name)"
   ]
  },
  {
   "cell_type": "code",
   "execution_count": 5,
   "metadata": {},
   "outputs": [],
   "source": [
    "# load dataframes with predictions and labels\n",
    "import os\n",
    "# get prediction dataframe from Backstage/Model_name\n",
    "bonobo_pred = pd.read_csv(path_model+'/bonobo_pred.csv')\n",
    "# get labels dataframe from Judge\n",
    "path_bonobo_labels = os.path.join('..','Tables','testset_bonobo_events.csv')\n",
    "bonobo_labels = pd.read_csv(path_bonobo_labels)\n"
   ]
  },
  {
   "cell_type": "code",
   "execution_count": 6,
   "metadata": {},
   "outputs": [],
   "source": [
    "# add prediction to true labels from judge\n",
    "bonobo_all = bonobo_labels.merge(bonobo_pred, on='event_file', how='left')"
   ]
  },
  {
   "cell_type": "code",
   "execution_count": 8,
   "metadata": {},
   "outputs": [],
   "source": [
    "# extract labels and predictions as lists\n",
    "labels = bonobo_all.fraction_of_yes.round(0).astype(int)\n",
    "preds = bonobo_all.preds.values"
   ]
  },
  {
   "cell_type": "code",
   "execution_count": 9,
   "metadata": {},
   "outputs": [
    {
     "name": "stdout",
     "output_type": "stream",
     "text": [
      "0.16344464191003957\n"
     ]
    }
   ],
   "source": [
    "# calculate the Brier score\n",
    "brier_score = np.mean(np.square(labels-preds))\n",
    "print(brier_score)"
   ]
  },
  {
   "cell_type": "code",
   "execution_count": 10,
   "metadata": {},
   "outputs": [],
   "source": [
    "# write brier score to results file\n",
    "with open(path_model+'/Results/results.txt', 'a') as f:\n",
    "    f.write('Brier_score: '+str(brier_score)+'\\n')"
   ]
  }
 ],
 "metadata": {
  "kernelspec": {
   "display_name": "pytorch",
   "language": "python",
   "name": "python3"
  },
  "language_info": {
   "codemirror_mode": {
    "name": "ipython",
    "version": 3
   },
   "file_extension": ".py",
   "mimetype": "text/x-python",
   "name": "python",
   "nbconvert_exporter": "python",
   "pygments_lexer": "ipython3",
   "version": "3.10.12"
  },
  "orig_nbformat": 4
 },
 "nbformat": 4,
 "nbformat_minor": 2
}
